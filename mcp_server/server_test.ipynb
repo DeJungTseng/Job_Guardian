{
 "cells": [
  {
   "cell_type": "markdown",
   "id": "ddb3ff38",
   "metadata": {},
   "source": [
    "# Environment"
   ]
  },
  {
   "cell_type": "markdown",
   "id": "ec419e32",
   "metadata": {},
   "source": [
    "## 匯入server.py\n"
   ]
  },
  {
   "cell_type": "code",
   "execution_count": 30,
   "id": "369fc62a",
   "metadata": {},
   "outputs": [
    {
     "name": "stdout",
     "output_type": "stream",
     "text": [
      "✅ server.py 匯入成功，MCP server 已載入。\n"
     ]
    }
   ],
   "source": [
    "# 📒 job_guardian_test.ipynb\n",
    "\n",
    "# ------------------------------------------------------------\n",
    "# 測試 0: 匯入 server.py\n",
    "# ------------------------------------------------------------\n",
    "import importlib.util\n",
    "import sys\n",
    "\n",
    "spec = importlib.util.spec_from_file_location(\"server\", \"server.py\")\n",
    "server = importlib.util.module_from_spec(spec)\n",
    "sys.modules[\"server\"] = server\n",
    "spec.loader.exec_module(server)\n",
    "\n",
    "print(\"✅ server.py 匯入成功，MCP server 已載入。\")\n"
   ]
  },
  {
   "cell_type": "code",
   "execution_count": 11,
   "id": "b1587910",
   "metadata": {},
   "outputs": [
    {
     "name": "stdout",
     "output_type": "stream",
     "text": [
      "/home/de-jung/projects/job-guardian/.venv/bin/python\n",
      "Linux\n",
      "[(<AddressFamily.AF_INET: 2>, <SocketKind.SOCK_STREAM: 1>, 6, '', ('117.56.218.140', 443)), (<AddressFamily.AF_INET: 2>, <SocketKind.SOCK_DGRAM: 2>, 17, '', ('117.56.218.140', 443)), (<AddressFamily.AF_INET: 2>, <SocketKind.SOCK_RAW: 3>, 0, '', ('117.56.218.140', 443)), (<AddressFamily.AF_INET: 2>, <SocketKind.SOCK_STREAM: 1>, 6, '', ('163.29.17.140', 443)), (<AddressFamily.AF_INET: 2>, <SocketKind.SOCK_DGRAM: 2>, 17, '', ('163.29.17.140', 443)), (<AddressFamily.AF_INET: 2>, <SocketKind.SOCK_RAW: 3>, 0, '', ('163.29.17.140', 443)), (<AddressFamily.AF_INET: 2>, <SocketKind.SOCK_STREAM: 1>, 6, '', ('122.147.34.140', 443)), (<AddressFamily.AF_INET: 2>, <SocketKind.SOCK_DGRAM: 2>, 17, '', ('122.147.34.140', 443)), (<AddressFamily.AF_INET: 2>, <SocketKind.SOCK_RAW: 3>, 0, '', ('122.147.34.140', 443))]\n"
     ]
    }
   ],
   "source": [
    "# 用哪個PYTHON\n",
    "import sys, platform, socket\n",
    "print(sys.executable)\n",
    "print(platform.system())\n",
    "print(socket.getaddrinfo(\"mopsfin.twse.com.tw\", 443))\n"
   ]
  },
  {
   "cell_type": "markdown",
   "id": "f123cc01",
   "metadata": {},
   "source": [
    "# 測試爬蟲\n"
   ]
  },
  {
   "cell_type": "code",
   "execution_count": null,
   "id": "65c34442",
   "metadata": {},
   "outputs": [],
   "source": [
    "# check certification\n",
    "import sys, ssl, requests, certifi\n",
    "print(\"Python:\", sys.executable)\n",
    "print(\"OpenSSL:\", ssl.OPENSSL_VERSION)\n",
    "print(\"Requests:\", requests.__version__)\n",
    "print(\"Certifi:\", certifi.where())\n"
   ]
  },
  {
   "cell_type": "code",
   "execution_count": null,
   "id": "d7092025",
   "metadata": {},
   "outputs": [],
   "source": [
    "rows = server._fetch_csv_rows(server.ESG_URL)\n",
    "print(\"筆數:\", len(rows))\n",
    "print(\"前5筆:\", rows[0])\n"
   ]
  },
  {
   "cell_type": "code",
   "execution_count": 31,
   "id": "b3b2e178",
   "metadata": {},
   "outputs": [
    {
     "name": "stdout",
     "output_type": "stream",
     "text": [
      "來源: https://mopsfin.twse.com.tw/opendata/t187ap46_O_5.csv\n",
      "共 850 筆，前 1 筆：\n",
      "{'\\ufeff出表日期': '1140925', '報告年度': '113', '公司代號': '1240', '公司名稱': '茂生農經', '員工福利平均數(仟元/人)': '982', '員工薪資平均數(仟元/人)': '841', '非擔任主管職務之全時員工薪資平均數(仟元/人)': '740', '非擔任主管之全時員工薪資中位數(仟元/人)': '649', '管理職女性主管佔比': '6.00%'}\n",
      "================================================================================\n",
      "來源: https://apiservice.mol.gov.tw/OdService/download/A17000000J-030225-svj\n",
      "共 68411 筆，前 1 筆：\n",
      "{'主管機關': '南投縣', '公告日期': '20250829', '處分日期': '20250829', '處分字號': '府授勞資字第 1140202257號', '事業單位名稱或負責人': '賴慶鴻即萊緹蛋糕坊', '違法法規法條': '勞動基準法第24條', '違反法規內容': '延長工作時間未依規定加給工資', '罰鍰金額': '20000', '備註說明': ''}\n",
      "================================================================================\n",
      "來源: https://apiservice.mol.gov.tw/OdService/download/A17000000J-030226-sop\n",
      "共 1064 筆，前 1 筆：\n",
      "{'主管機關': '新竹縣', '公告日期': '20160105', '處分日期': '20151106', '處分字號': '104年府勞資字第1040137166號', '事業單位名稱或負責人': '千才科技股份有限公司(\\n高嵩岳)', '違法法規法條': '性別工作平等法第7條', '違反法規內容': '招募特定性別', '罰鍰金額': '', '備註說明': ''}\n",
      "================================================================================\n"
     ]
    }
   ],
   "source": [
    "# ------------------------------------------------------------\n",
    "# 測試 1: 確認爬蟲來源可下載並解析\n",
    "# ------------------------------------------------------------\n",
    "for url in [server.ESG_URL, server.LAB_VIO_URL, server.GE_VIO_URL]:\n",
    "    rows = server._fetch_csv_rows(url)\n",
    "    print(f\"來源: {url}\")\n",
    "    print(f\"共 {len(rows)} 筆，前 1 筆：\")\n",
    "    print(rows[0] if rows else \"⚠️ 無資料\")\n",
    "    print(\"=\"*80)\n"
   ]
  },
  {
   "cell_type": "markdown",
   "id": "218219ba",
   "metadata": {},
   "source": [
    "# 測試工具內函式"
   ]
  },
  {
   "cell_type": "code",
   "execution_count": 32,
   "id": "b992de73",
   "metadata": {},
   "outputs": [
    {
     "name": "stdout",
     "output_type": "stream",
     "text": [
      "esg_hr 測試輸出：\n",
      "{'items': [{'公司代號': '2221', '公司名稱': '大甲', '年度': '113', '員工薪資中位數': '499', '員工薪資平均數': '563', '女性主管比例': '27.03%', '資料列原始': {'\\ufeff出表日期': '1140925', '報告年度': '113', '公司代號': '2221', '公司名稱': '大甲', '員工福利平均數(仟元/人)': '696', '員工薪資平均數(仟元/人)': '563', '非擔任主管職務之全時員工薪資平均數(仟元/人)': '573', '非擔任主管之全時員工薪資中位數(仟元/人)': '499', '管理職女性主管佔比': '27.03%'}}], 'count': 1, 'source_url': 'https://mopsfin.twse.com.tw/opendata/t187ap46_O_5.csv', 'fetched_at': '2025-09-25T06:50:10Z', 'meta': {'query': '大甲', 'year': 113, 'partial_match': False}}\n",
      "✅ esg_hr output 格式正確\n"
     ]
    }
   ],
   "source": [
    "# ------------------------------------------------------------\n",
    "# 測試 2: 呼叫 esg_hr 工具\n",
    "# ------------------------------------------------------------\n",
    "result = server.esg_hr(\"大甲\", year=113, limit=3)\n",
    "print(\"esg_hr 測試輸出：\")\n",
    "print(result)\n",
    "\n",
    "assert isinstance(result, dict)\n",
    "assert \"items\" in result\n",
    "assert \"count\" in result\n",
    "assert \"source_url\" in result\n",
    "assert \"meta\" in result\n",
    "print(\"✅ esg_hr output 格式正確\")\n"
   ]
  },
  {
   "cell_type": "code",
   "execution_count": 17,
   "id": "dc495c66",
   "metadata": {},
   "outputs": [
    {
     "name": "stdout",
     "output_type": "stream",
     "text": [
      "labor_violations 測試輸出：\n",
      "{'items': [{'事業單位名稱': '財團法人天主教中華道明修女會附設雲林縣私立西光幼兒園(徐嘉雯)', '公告日期': '20250903', '裁處機關': '雲林縣', '違反法條': '勞動基準法第30條第6項', '違反法條內容': '出勤紀錄，未逐日記載勞工出勤情形至分鐘為止', '罰鍰金額': '20000', '資料列原始': {'主管機關': '雲林縣', '公告日期': '20250903', '處分日期': '20250826', '處分字號': '114年府勞動一字第1143425678號', '事業單位名稱或負責人': '財團法人天主教中華道明修女會附設雲林縣私立西光幼兒園(徐嘉雯)', '違法法規法條': '勞動基準法第30條第6項', '違反法規內容': '出勤紀錄，未逐日記載勞工出勤情形至分鐘為止', '罰鍰金額': '20000', '備註說明': ''}}], 'count': 1, 'stats': {'count_by_year': {'2025': 1}}, 'source_url': 'https://apiservice.mol.gov.tw/OdService/download/A17000000J-030225-svj', 'fetched_at': '2025-09-24T13:49:33Z', 'meta': {'query': '道明修女會', 'since_year': 2025, 'partial_match': True}}\n",
      "✅ labor_violations output 格式正確\n"
     ]
    }
   ],
   "source": [
    "# ------------------------------------------------------------\n",
    "# 測試 3: 呼叫 labor_violations 工具\n",
    "# ------------------------------------------------------------\n",
    "result = server.labor_violations(\"道明修女會\", since_year=2025, limit=3)\n",
    "print(\"labor_violations 測試輸出：\")\n",
    "print(result)\n",
    "\n",
    "assert isinstance(result, dict)\n",
    "assert \"items\" in result\n",
    "assert \"stats\" in result\n",
    "assert \"source_url\" in result\n",
    "assert \"meta\" in result\n",
    "print(\"✅ labor_violations output 格式正確\")\n"
   ]
  },
  {
   "cell_type": "code",
   "execution_count": 26,
   "id": "89013c6f",
   "metadata": {},
   "outputs": [
    {
     "name": "stdout",
     "output_type": "stream",
     "text": [
      "ge_work_equality_violations 測試輸出：\n",
      "{'items': [{'事業單位名稱': '大慶護理之家(許純毓)', '公告日期': '20200305', '裁處機關': '桃園市', '違反法條': '性別工作平等法第11條第1項', '違反法條內容': '懷孕解僱', '罰鍰金額': None, '資料列原始': {'主管機關': '桃園市', '公告日期': '20200305', '處分日期': '20200115', '處分字號': '109年府勞條字1090008089號', '事業單位名稱或負責人': '大慶護理之家(許純毓)', '違法法規法條': '性別工作平等法第11條第1項', '違反法規內容': '懷孕解僱', '罰鍰金額': '', '備註說明': '無'}}], 'count': 1, 'stats': {'count_by_year': {'2020': 1}}, 'source_url': 'https://apiservice.mol.gov.tw/OdService/download/A17000000J-030226-sop', 'fetched_at': '2025-09-24T14:02:08Z', 'meta': {'query': '大慶', 'since_year': 2020, 'partial_match': True}}\n",
      "✅ ge_work_equality_violations output 格式正確\n"
     ]
    }
   ],
   "source": [
    "# ------------------------------------------------------------\n",
    "# 測試 4: 呼叫 ge_work_equality_violations 工具\n",
    "# ------------------------------------------------------------\n",
    "result = server.ge_work_equality_violations(\"大慶\", since_year=2020, limit=3)\n",
    "print(\"ge_work_equality_violations 測試輸出：\")\n",
    "print(result)\n",
    "\n",
    "assert isinstance(result, dict)\n",
    "assert \"items\" in result\n",
    "assert \"stats\" in result\n",
    "assert \"source_url\" in result\n",
    "assert \"meta\" in result\n",
    "print(\"✅ ge_work_equality_violations output 格式正確\")\n"
   ]
  },
  {
   "cell_type": "markdown",
   "id": "7a1cfbe9",
   "metadata": {},
   "source": [
    "# Test MCP "
   ]
  },
  {
   "cell_type": "code",
   "execution_count": null,
   "id": "917b19e7",
   "metadata": {},
   "outputs": [],
   "source": [
    "import json\n",
    "from mcp.server.fastmcp import FastMCP\n",
    "\n",
    "# 假設你已經有 mcp instance\n",
    "import server  \n",
    "\n",
    "# 模擬一個 JSON-RPC 請求\n",
    "req_list = {\n",
    "    \"jsonrpc\": \"2.0\",\n",
    "    \"id\": 1,\n",
    "    \"method\": \"tools/list\",\n",
    "    \"params\": {}\n",
    "}\n",
    "\n",
    "req_call = {\n",
    "    \"jsonrpc\": \"2.0\",\n",
    "    \"id\": 2,\n",
    "    \"method\": \"tools/call\",\n",
    "    \"params\": {\n",
    "        \"name\": \"esg_hr\",\n",
    "        \"arguments\": {\n",
    "            \"company\": \"茂生農經\",\n",
    "            \"year\": 113,\n",
    "            \"limit\": 2\n",
    "        }\n",
    "    }\n",
    "}\n",
    "\n",
    "# FastMCP 有 dispatch 方法可以直接處理 JSON-RPC\n",
    "resp_list = server.mcp.dispatch(req_list)\n",
    "resp_call = server.mcp.dispatch(req_call)\n",
    "\n",
    "print(\"tools/list 回應：\")\n",
    "print(json.dumps(resp_list, ensure_ascii=False, indent=2))\n",
    "\n",
    "print(\"\\ntools/call 回應：\")\n",
    "print(json.dumps(resp_call, ensure_ascii=False, indent=2))\n"
   ]
  },
  {
   "cell_type": "code",
   "execution_count": null,
   "id": "136d6bef",
   "metadata": {},
   "outputs": [],
   "source": [
    "import asyncio\n",
    "import json\n",
    "import server  # 你已經有 mcp instance 在 server.py 裡\n",
    "\n",
    "async def test_mcp():\n",
    "    # 列出所有工具\n",
    "    tools = await server.mcp.list_tools()\n",
    "    print(\"tools/list 回應：\")\n",
    "    print(json.dumps(tools, ensure_ascii=False, indent=2))\n",
    "\n",
    "    # 呼叫 esg_hr 工具\n",
    "    result = await server.mcp.call_tool(\"esg_hr\", {\"company\": \"茂生農經\", \"year\": 113, \"limit\": 2})\n",
    "    print(\"\\ntools/call 回應：\")\n",
    "    print(json.dumps(result, ensure_ascii=False, indent=2))\n",
    "\n",
    "asyncio.run(test_mcp())\n"
   ]
  },
  {
   "cell_type": "code",
   "execution_count": 38,
   "id": "fb55277d",
   "metadata": {},
   "outputs": [
    {
     "name": "stdout",
     "output_type": "stream",
     "text": [
      "tools/list 回應： [Tool(name='esg_hr', title=None, description='\\n    查 ESG 人力發展（薪資/福利/女性主管比等）。會即時抓取 CSV，於工具內 ETL 後回傳。\\n    Args:\\n      company: 公司名稱（可含股份有限公司等尾綴）\\n      year: 指定年度（可省略）\\n      limit: 最多回傳筆數\\n    Returns: dict(items=[...], source_url, fetched_at, meta)\\n    ', inputSchema={'properties': {'company': {'title': 'Company', 'type': 'string'}, 'year': {'anyOf': [{'type': 'integer'}, {'type': 'null'}], 'default': None, 'title': 'Year'}, 'limit': {'default': 50, 'title': 'Limit', 'type': 'integer'}}, 'required': ['company'], 'title': 'esg_hrArguments', 'type': 'object'}, outputSchema=None, annotations=None, meta=None), Tool(name='labor_violations', title=None, description='\\n    查勞動部違反勞基法紀錄（官方彙總）。\\n    Args:\\n      company: 事業單位名稱（可用部分關鍵字）\\n      since_year: 公告日期的年份 >= since_year 才算\\n      limit: 最多回傳筆數\\n    ', inputSchema={'properties': {'company': {'title': 'Company', 'type': 'string'}, 'since_year': {'anyOf': [{'type': 'integer'}, {'type': 'null'}], 'default': None, 'title': 'Since Year'}, 'limit': {'default': 50, 'title': 'Limit', 'type': 'integer'}}, 'required': ['company'], 'title': 'labor_violationsArguments', 'type': 'object'}, outputSchema=None, annotations=None, meta=None), Tool(name='ge_work_equality_violations', title=None, description='\\n    查性平工作法違規紀錄（官方彙總）。\\n    Args:\\n      company: 公司名稱或關鍵字\\n      since_year: 公告日期包含該年份字串 (ex: 2025)\\n      limit: 最多回傳筆數\\n    ', inputSchema={'properties': {'company': {'title': 'Company', 'type': 'string'}, 'since_year': {'anyOf': [{'type': 'integer'}, {'type': 'null'}], 'default': None, 'title': 'Since Year'}, 'limit': {'default': 50, 'title': 'Limit', 'type': 'integer'}}, 'required': ['company'], 'title': 'ge_work_equality_violationsArguments', 'type': 'object'}, outputSchema=None, annotations=None, meta=None)]\n",
      "\n",
      "tools/call 回應： [TextContent(type='text', text='{\\n  \"items\": [\\n    {\\n      \"公司代號\": \"1240\",\\n      \"公司名稱\": \"茂生農經\",\\n      \"年度\": \"113\",\\n      \"員工薪資中位數\": \"649\",\\n      \"員工薪資平均數\": \"841\",\\n      \"女性主管比例\": \"6.00%\",\\n      \"資料列原始\": {\\n        \"\\ufeff出表日期\": \"1140925\",\\n        \"報告年度\": \"113\",\\n        \"公司代號\": \"1240\",\\n        \"公司名稱\": \"茂生農經\",\\n        \"員工福利平均數(仟元/人)\": \"982\",\\n        \"員工薪資平均數(仟元/人)\": \"841\",\\n        \"非擔任主管職務之全時員工薪資平均數(仟元/人)\": \"740\",\\n        \"非擔任主管之全時員工薪資中位數(仟元/人)\": \"649\",\\n        \"管理職女性主管佔比\": \"6.00%\"\\n      }\\n    }\\n  ],\\n  \"count\": 1,\\n  \"source_url\": \"https://mopsfin.twse.com.tw/opendata/t187ap46_O_5.csv\",\\n  \"fetched_at\": \"2025-09-25T07:13:54Z\",\\n  \"meta\": {\\n    \"query\": \"茂生農經\",\\n    \"year\": 113,\\n    \"partial_match\": false\\n  }\\n}', annotations=None, meta=None)]\n"
     ]
    }
   ],
   "source": [
    "import json\n",
    "import server  # 你已經有 mcp instance 在 server.py 裡\n",
    "\n",
    "async def test_mcp():\n",
    "    # 列出所有工具\n",
    "    tools = await server.mcp.list_tools()\n",
    "    print(\"tools/list 回應：\", tools)\n",
    "    \n",
    "\n",
    "\n",
    "    # 呼叫 esg_hr 工具\n",
    "    result = await server.mcp.call_tool(\"esg_hr\", {\"company\": \"茂生農經\", \"year\": 113, \"limit\": 2})\n",
    "    print(\"\\ntools/call 回應：\", result)\n",
    "    \n",
    "\n",
    "# 在 Jupyter notebook 裡用 await，而不是 asyncio.run()\n",
    "await test_mcp()\n"
   ]
  },
  {
   "cell_type": "markdown",
   "id": "98c64cff",
   "metadata": {},
   "source": [
    "## test all mcp tools"
   ]
  },
  {
   "cell_type": "code",
   "execution_count": 39,
   "id": "723470e4",
   "metadata": {},
   "outputs": [
    {
     "name": "stdout",
     "output_type": "stream",
     "text": [
      "tools/list 回應： ['esg_hr', 'labor_violations', 'ge_work_equality_violations']\n",
      "\n",
      "[esg_hr] 回應： [TextContent(type='text', text='{\\n  \"items\": [\\n    {\\n      \"公司代號\": \"1240\",\\n      \"公司名稱\": \"茂生農經\",\\n      \"年度\": \"113\",\\n      \"員工薪資中位數\": \"649\",\\n      \"員工薪資平均數\": \"841\",\\n      \"女性主管比例\": \"6.00%\",\\n      \"資料列原始\": {\\n        \"\\ufeff出表日期\": \"1140925\",\\n        \"報告年度\": \"113\",\\n        \"公司代號\": \"1240\",\\n        \"公司名稱\": \"茂生農經\",\\n        \"員工福利平均數(仟元/人)\": \"982\",\\n        \"員工薪資平均數(仟元/人)\": \"841\",\\n        \"非擔任主管職務之全時員工薪資平均數(仟元/人)\": \"740\",\\n        \"非擔任主管之全時員工薪資中位數(仟元/人)\": \"649\",\\n        \"管理職女性主管佔比\": \"6.00%\"\\n      }\\n    }\\n  ],\\n  \"count\": 1,\\n  \"source_url\": \"https://mopsfin.twse.com.tw/opendata/t187ap46_O_5.csv\",\\n  \"fetched_at\": \"2025-09-25T09:01:17Z\",\\n  \"meta\": {\\n    \"query\": \"茂生農經\",\\n    \"year\": 113,\\n    \"partial_match\": false\\n  }\\n}', annotations=None, meta=None)]\n",
      "\n",
      "[labor_violations] 回應： [TextContent(type='text', text='{\\n  \"items\": [\\n    {\\n      \"事業單位名稱\": \"賴慶鴻即萊緹蛋糕坊\",\\n      \"公告日期\": \"20250829\",\\n      \"裁處機關\": \"南投縣\",\\n      \"違反法條\": \"勞動基準法第24條\",\\n      \"違反法條內容\": \"延長工作時間未依規定加給工資\",\\n      \"罰鍰金額\": \"20000\",\\n      \"資料列原始\": {\\n        \"主管機關\": \"南投縣\",\\n        \"公告日期\": \"20250829\",\\n        \"處分日期\": \"20250829\",\\n        \"處分字號\": \"府授勞資字第 1140202257號\",\\n        \"事業單位名稱或負責人\": \"賴慶鴻即萊緹蛋糕坊\",\\n        \"違法法規法條\": \"勞動基準法第24條\",\\n        \"違反法規內容\": \"延長工作時間未依規定加給工資\",\\n        \"罰鍰金額\": \"20000\",\\n        \"備註說明\": \"\"\\n      }\\n    }\\n  ],\\n  \"count\": 1,\\n  \"stats\": {\\n    \"count_by_year\": {\\n      \"2025\": 1\\n    }\\n  },\\n  \"source_url\": \"https://apiservice.mol.gov.tw/OdService/download/A17000000J-030225-svj\",\\n  \"fetched_at\": \"2025-09-25T09:01:40Z\",\\n  \"meta\": {\\n    \"query\": \"萊緹蛋糕坊\",\\n    \"since_year\": 2025,\\n    \"partial_match\": true\\n  }\\n}', annotations=None, meta=None)]\n",
      "\n",
      "[ge_work_equality_violations] 回應： [TextContent(type='text', text='{\\n  \"items\": [\\n    {\\n      \"事業單位名稱\": \"千才科技股份有限公司(\\\\n高嵩岳)\",\\n      \"公告日期\": \"20160105\",\\n      \"裁處機關\": \"新竹縣\",\\n      \"違反法條\": \"性別工作平等法第7條\",\\n      \"違反法條內容\": \"招募特定性別\",\\n      \"罰鍰金額\": null,\\n      \"資料列原始\": {\\n        \"主管機關\": \"新竹縣\",\\n        \"公告日期\": \"20160105\",\\n        \"處分日期\": \"20151106\",\\n        \"處分字號\": \"104年府勞資字第1040137166號\",\\n        \"事業單位名稱或負責人\": \"千才科技股份有限公司(\\\\n高嵩岳)\",\\n        \"違法法規法條\": \"性別工作平等法第7條\",\\n        \"違反法規內容\": \"招募特定性別\",\\n        \"罰鍰金額\": \"\",\\n        \"備註說明\": \"\"\\n      }\\n    }\\n  ],\\n  \"count\": 1,\\n  \"stats\": {\\n    \"count_by_year\": {\\n      \"2016\": 1\\n    }\\n  },\\n  \"source_url\": \"https://apiservice.mol.gov.tw/OdService/download/A17000000J-030226-sop\",\\n  \"fetched_at\": \"2025-09-25T09:01:41Z\",\\n  \"meta\": {\\n    \"query\": \"千才科技\",\\n    \"since_year\": 2016,\\n    \"partial_match\": true\\n  }\\n}', annotations=None, meta=None)]\n"
     ]
    }
   ],
   "source": [
    "import json\n",
    "import server  # mcp instance 在這裡\n",
    "\n",
    "async def test_mcp():\n",
    "    # 列出所有工具\n",
    "    tools = await server.mcp.list_tools()\n",
    "    print(\"tools/list 回應：\", [t.name for t in tools])\n",
    "\n",
    "    # 測試 esg_hr\n",
    "    result1 = await server.mcp.call_tool(\"esg_hr\", {\n",
    "        \"company\": \"茂生農經\",\n",
    "        \"year\": 113,\n",
    "        \"limit\": 2\n",
    "    })\n",
    "    print(\"\\n[esg_hr] 回應：\", result1)\n",
    "\n",
    "    # 測試 labor_violations\n",
    "    result2 = await server.mcp.call_tool(\"labor_violations\", {\n",
    "        \"company\": \"萊緹蛋糕坊\",\n",
    "        \"since_year\": 2025,\n",
    "        \"limit\": 2\n",
    "    })\n",
    "    print(\"\\n[labor_violations] 回應：\", result2)\n",
    "\n",
    "    # 測試 ge_work_equality_violations\n",
    "    result3 = await server.mcp.call_tool(\"ge_work_equality_violations\", {\n",
    "        \"company\": \"千才科技\",\n",
    "        \"since_year\": 2016,   # ⚡ 用真實有資料的年份\n",
    "        \"limit\": 2\n",
    "    })\n",
    "    print(\"\\n[ge_work_equality_violations] 回應：\", result3)\n",
    "\n",
    "# Jupyter 要用 await，不能 asyncio.run()\n",
    "await test_mcp()\n"
   ]
  }
 ],
 "metadata": {
  "kernelspec": {
   "display_name": "Python (job-guardian-venv)",
   "language": "python",
   "name": "job-guardian-venv"
  },
  "language_info": {
   "codemirror_mode": {
    "name": "ipython",
    "version": 3
   },
   "file_extension": ".py",
   "mimetype": "text/x-python",
   "name": "python",
   "nbconvert_exporter": "python",
   "pygments_lexer": "ipython3",
   "version": "3.12.3"
  }
 },
 "nbformat": 4,
 "nbformat_minor": 5
}
