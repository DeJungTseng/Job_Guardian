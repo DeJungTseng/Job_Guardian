{
 "cells": [
  {
   "cell_type": "markdown",
   "id": "ec419e32",
   "metadata": {},
   "source": [
    "# Packages\n"
   ]
  },
  {
   "cell_type": "code",
   "execution_count": null,
   "id": "8378776d",
   "metadata": {},
   "outputs": [],
   "source": [
    "import sys\n",
    "import os\n",
    "\n",
    "# 假設 .venv 在專案根目錄\n",
    "venv_path = os.path.abspath(\"../.venv/Lib/site-packages\")  # Windows\n",
    "# venv_path = os.path.abspath(\"../.venv/lib/python3.11/site-packages\")  # Linux/Mac\n",
    "\n",
    "if venv_path not in sys.path:\n",
    "    sys.path.insert(0, venv_path)\n",
    "\n",
    "print(\"✅ 已加入 .venv site-packages 到 sys.path\")\n"
   ]
  },
  {
   "cell_type": "code",
   "execution_count": 1,
   "id": "369fc62a",
   "metadata": {},
   "outputs": [
    {
     "name": "stdout",
     "output_type": "stream",
     "text": [
      "✅ server.py 匯入成功，MCP server 已載入。\n"
     ]
    }
   ],
   "source": [
    "# 📒 job_guardian_test.ipynb\n",
    "\n",
    "# ------------------------------------------------------------\n",
    "# 測試 0: 匯入 server.py\n",
    "# ------------------------------------------------------------\n",
    "import importlib.util\n",
    "import sys\n",
    "\n",
    "spec = importlib.util.spec_from_file_location(\"server\", \"server.py\")\n",
    "server = importlib.util.module_from_spec(spec)\n",
    "sys.modules[\"server\"] = server\n",
    "spec.loader.exec_module(server)\n",
    "\n",
    "print(\"✅ server.py 匯入成功，MCP server 已載入。\")\n"
   ]
  },
  {
   "cell_type": "code",
   "execution_count": 2,
   "id": "b1587910",
   "metadata": {},
   "outputs": [
    {
     "name": "stdout",
     "output_type": "stream",
     "text": [
      "/home/de-jung/projects/job-guardian/.venv/bin/python\n",
      "Linux\n",
      "[(<AddressFamily.AF_INET: 2>, <SocketKind.SOCK_STREAM: 1>, 6, '', ('117.56.218.140', 443)), (<AddressFamily.AF_INET: 2>, <SocketKind.SOCK_DGRAM: 2>, 17, '', ('117.56.218.140', 443)), (<AddressFamily.AF_INET: 2>, <SocketKind.SOCK_RAW: 3>, 0, '', ('117.56.218.140', 443))]\n"
     ]
    }
   ],
   "source": [
    "# 用哪個PYTHON\n",
    "import sys, platform, socket\n",
    "print(sys.executable)\n",
    "print(platform.system())\n",
    "print(socket.getaddrinfo(\"mopsfin.twse.com.tw\", 443))\n"
   ]
  },
  {
   "cell_type": "markdown",
   "id": "f123cc01",
   "metadata": {},
   "source": [
    "# 測試爬蟲\n"
   ]
  },
  {
   "cell_type": "code",
   "execution_count": 3,
   "id": "65c34442",
   "metadata": {},
   "outputs": [
    {
     "name": "stdout",
     "output_type": "stream",
     "text": [
      "Python: /home/de-jung/projects/job-guardian/.venv/bin/python\n",
      "OpenSSL: OpenSSL 3.0.13 30 Jan 2024\n",
      "Requests: 2.32.5\n",
      "Certifi: /home/de-jung/projects/job-guardian/.venv/lib/python3.12/site-packages/certifi/cacert.pem\n"
     ]
    }
   ],
   "source": [
    "# check certification\n",
    "import sys, ssl, requests, certifi\n",
    "print(\"Python:\", sys.executable)\n",
    "print(\"OpenSSL:\", ssl.OPENSSL_VERSION)\n",
    "print(\"Requests:\", requests.__version__)\n",
    "print(\"Certifi:\", certifi.where())\n"
   ]
  },
  {
   "cell_type": "code",
   "execution_count": 5,
   "id": "d7092025",
   "metadata": {},
   "outputs": [
    {
     "name": "stdout",
     "output_type": "stream",
     "text": [
      "筆數: 850\n",
      "前5筆: {'\\ufeff出表日期': '1140924', '報告年度': '113', '公司代號': '1240', '公司名稱': '茂生農經', '員工福利平均數(仟元/人)': '982', '員工薪資平均數(仟元/人)': '841', '非擔任主管職務之全時員工薪資平均數(仟元/人)': '740', '非擔任主管之全時員工薪資中位數(仟元/人)': '649', '管理職女性主管佔比': '6.00%'}\n"
     ]
    }
   ],
   "source": [
    "rows = server._fetch_csv_rows(server.ESG_URL)\n",
    "print(\"筆數:\", len(rows))\n",
    "print(\"前5筆:\", rows[0])\n"
   ]
  },
  {
   "cell_type": "code",
   "execution_count": 6,
   "id": "b3b2e178",
   "metadata": {},
   "outputs": [
    {
     "name": "stdout",
     "output_type": "stream",
     "text": [
      "來源: https://mopsfin.twse.com.tw/opendata/t187ap46_O_5.csv\n",
      "共 850 筆，前 1 筆：\n",
      "{'\\ufeff出表日期': '1140924', '報告年度': '113', '公司代號': '1240', '公司名稱': '茂生農經', '員工福利平均數(仟元/人)': '982', '員工薪資平均數(仟元/人)': '841', '非擔任主管職務之全時員工薪資平均數(仟元/人)': '740', '非擔任主管之全時員工薪資中位數(仟元/人)': '649', '管理職女性主管佔比': '6.00%'}\n",
      "================================================================================\n",
      "來源: https://apiservice.mol.gov.tw/OdService/download/A17000000J-030225-svj\n",
      "共 68411 筆，前 1 筆：\n",
      "{'主管機關': '南投縣', '公告日期': '20250829', '處分日期': '20250829', '處分字號': '府授勞資字第 1140202257號', '事業單位名稱或負責人': '賴慶鴻即萊緹蛋糕坊', '違法法規法條': '勞動基準法第24條', '違反法規內容': '延長工作時間未依規定加給工資', '罰鍰金額': '20000', '備註說明': ''}\n",
      "================================================================================\n",
      "來源: https://apiservice.mol.gov.tw/OdService/download/A17000000J-030226-sop\n",
      "共 1064 筆，前 1 筆：\n",
      "{'主管機關': '新竹縣', '公告日期': '20160105', '處分日期': '20151106', '處分字號': '104年府勞資字第1040137166號', '事業單位名稱或負責人': '千才科技股份有限公司(\\n高嵩岳)', '違法法規法條': '性別工作平等法第7條', '違反法規內容': '招募特定性別', '罰鍰金額': '', '備註說明': ''}\n",
      "================================================================================\n"
     ]
    }
   ],
   "source": [
    "# ------------------------------------------------------------\n",
    "# 測試 1: 確認爬蟲來源可下載並解析\n",
    "# ------------------------------------------------------------\n",
    "for url in [server.ESG_URL, server.LAB_VIO_URL, server.GE_VIO_URL]:\n",
    "    rows = server._fetch_csv_rows(url)\n",
    "    print(f\"來源: {url}\")\n",
    "    print(f\"共 {len(rows)} 筆，前 1 筆：\")\n",
    "    print(rows[0] if rows else \"⚠️ 無資料\")\n",
    "    print(\"=\"*80)\n"
   ]
  },
  {
   "cell_type": "markdown",
   "id": "218219ba",
   "metadata": {},
   "source": [
    "# 測試工具內函式"
   ]
  },
  {
   "cell_type": "code",
   "execution_count": 8,
   "id": "b992de73",
   "metadata": {},
   "outputs": [
    {
     "name": "stdout",
     "output_type": "stream",
     "text": [
      "esg_hr 測試輸出：\n",
      "{'items': [], 'count': 0, 'source_url': 'https://mopsfin.twse.com.tw/opendata/t187ap46_O_5.csv', 'fetched_at': '2025-09-24T08:19:12Z', 'meta': {'query': '茂生農經', 'year': 113, 'partial_match': False}}\n",
      "✅ esg_hr output 格式正確\n"
     ]
    }
   ],
   "source": [
    "# ------------------------------------------------------------\n",
    "# 測試 2: 呼叫 esg_hr 工具\n",
    "# ------------------------------------------------------------\n",
    "result = server.esg_hr(\"茂生農經\", year=113, limit=3)\n",
    "print(\"esg_hr 測試輸出：\")\n",
    "print(result)\n",
    "\n",
    "assert isinstance(result, dict)\n",
    "assert \"items\" in result\n",
    "assert \"count\" in result\n",
    "assert \"source_url\" in result\n",
    "assert \"meta\" in result\n",
    "print(\"✅ esg_hr output 格式正確\")\n"
   ]
  },
  {
   "cell_type": "code",
   "execution_count": null,
   "id": "dc495c66",
   "metadata": {},
   "outputs": [],
   "source": [
    "# ------------------------------------------------------------\n",
    "# 測試 3: 呼叫 labor_violations 工具\n",
    "# ------------------------------------------------------------\n",
    "result = server.labor_violations(\"華碩\", since_year=2020, limit=3)\n",
    "print(\"labor_violations 測試輸出：\")\n",
    "print(result)\n",
    "\n",
    "assert isinstance(result, dict)\n",
    "assert \"items\" in result\n",
    "assert \"stats\" in result\n",
    "assert \"source_url\" in result\n",
    "assert \"meta\" in result\n",
    "print(\"✅ labor_violations output 格式正確\")\n"
   ]
  },
  {
   "cell_type": "code",
   "execution_count": null,
   "id": "89013c6f",
   "metadata": {},
   "outputs": [],
   "source": [
    "# ------------------------------------------------------------\n",
    "# 測試 4: 呼叫 ge_work_equality_violations 工具\n",
    "# ------------------------------------------------------------\n",
    "result = server.ge_work_equality_violations(\"華碩\", since_year=2020, limit=3)\n",
    "print(\"ge_work_equality_violations 測試輸出：\")\n",
    "print(result)\n",
    "\n",
    "assert isinstance(result, dict)\n",
    "assert \"items\" in result\n",
    "assert \"stats\" in result\n",
    "assert \"source_url\" in result\n",
    "assert \"meta\" in result\n",
    "print(\"✅ ge_work_equality_violations output 格式正確\")\n"
   ]
  }
 ],
 "metadata": {
  "kernelspec": {
   "display_name": "Python (job-guardian venv)",
   "language": "python",
   "name": "job-guardian-venv"
  },
  "language_info": {
   "codemirror_mode": {
    "name": "ipython",
    "version": 3
   },
   "file_extension": ".py",
   "mimetype": "text/x-python",
   "name": "python",
   "nbconvert_exporter": "python",
   "pygments_lexer": "ipython3",
   "version": "3.12.3"
  }
 },
 "nbformat": 4,
 "nbformat_minor": 5
}
